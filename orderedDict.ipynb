{
 "cells": [
  {
   "cell_type": "markdown",
   "metadata": {},
   "source": [
    "### OrderedDict"
   ]
  },
  {
   "cell_type": "markdown",
   "metadata": {},
   "source": [
    "- subclass of dictionary class\n",
    "- preserves the order in which the keys are inserted"
   ]
  },
  {
   "cell_type": "markdown",
   "metadata": {},
   "source": [
    "#### Example:"
   ]
  },
  {
   "cell_type": "code",
   "execution_count": 2,
   "metadata": {},
   "outputs": [
    {
     "name": "stdout",
     "output_type": "stream",
     "text": [
      "medicine-1 : 10\n",
      "medicine-3 : 7\n",
      "medicine-2 : 15\n",
      "medicine-4 : 12\n"
     ]
    }
   ],
   "source": [
    "from collections import OrderedDict\n",
    "cost = OrderedDict()\n",
    "cost['medicine-1'] = 10\n",
    "cost['medicine-3'] = 7\n",
    "cost['medicine-2'] = 15\n",
    "cost['medicine-4'] = 12\n",
    "for key, value in cost.items():\n",
    "    print(key, \":\", value)\n"
   ]
  },
  {
   "cell_type": "markdown",
   "metadata": {},
   "source": [
    "1. Key-value change: If the value of a key changed, the order will remains the same"
   ]
  },
  {
   "cell_type": "code",
   "execution_count": 3,
   "metadata": {},
   "outputs": [
    {
     "name": "stdout",
     "output_type": "stream",
     "text": [
      "OrderedDict([('medicine-1', 11), ('medicine-3', 7), ('medicine-2', 15), ('medicine-4', 12)])\n"
     ]
    }
   ],
   "source": [
    "cost['medicine-1'] = 11\n",
    "print(cost)"
   ]
  },
  {
   "cell_type": "markdown",
   "metadata": {},
   "source": [
    "2. Deletion and Re-insertion"
   ]
  },
  {
   "cell_type": "code",
   "execution_count": 4,
   "metadata": {},
   "outputs": [
    {
     "name": "stdout",
     "output_type": "stream",
     "text": [
      "OrderedDict([('medicine-1', 11), ('medicine-2', 15), ('medicine-4', 12)])\n"
     ]
    }
   ],
   "source": [
    "cost.pop('medicine-3')\n",
    "print(cost)"
   ]
  },
  {
   "cell_type": "code",
   "execution_count": 5,
   "metadata": {},
   "outputs": [
    {
     "name": "stdout",
     "output_type": "stream",
     "text": [
      "OrderedDict([('medicine-1', 11), ('medicine-2', 15), ('medicine-4', 12), ('medicine-3', 8)])\n"
     ]
    }
   ],
   "source": [
    "cost['medicine-3'] = 8\n",
    "print(cost)"
   ]
  },
  {
   "cell_type": "markdown",
   "metadata": {},
   "source": [
    "Insert multiple keys:"
   ]
  },
  {
   "cell_type": "code",
   "execution_count": 6,
   "metadata": {},
   "outputs": [
    {
     "name": "stdout",
     "output_type": "stream",
     "text": [
      "OrderedDict([('medicine-1', 11), ('medicine-2', 15), ('medicine-4', 12), ('medicine-3', 8), ('medicine-x', 12), ('medicine-y', 6)])\n"
     ]
    }
   ],
   "source": [
    "cost.update([('medicine-x',12), ('medicine-y', 6)])\n",
    "print(cost)"
   ]
  }
 ],
 "metadata": {
  "kernelspec": {
   "display_name": "Python 3",
   "language": "python",
   "name": "python3"
  },
  "language_info": {
   "codemirror_mode": {
    "name": "ipython",
    "version": 3
   },
   "file_extension": ".py",
   "mimetype": "text/x-python",
   "name": "python",
   "nbconvert_exporter": "python",
   "pygments_lexer": "ipython3",
   "version": "3.10.13"
  }
 },
 "nbformat": 4,
 "nbformat_minor": 2
}
