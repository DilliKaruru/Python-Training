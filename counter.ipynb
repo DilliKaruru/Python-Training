{
 "cells": [
  {
   "cell_type": "markdown",
   "metadata": {},
   "source": [
    "### Counter()"
   ]
  },
  {
   "cell_type": "markdown",
   "metadata": {},
   "source": [
    "- Used to count hashable objects\n",
    "- Ignores items whose count is zero (or) negative"
   ]
  },
  {
   "cell_type": "markdown",
   "metadata": {},
   "source": [
    "#### Example:"
   ]
  },
  {
   "cell_type": "code",
   "execution_count": 2,
   "metadata": {},
   "outputs": [
    {
     "name": "stdout",
     "output_type": "stream",
     "text": [
      "Counter({'c': 2, 'o': 2, 'e': 2, 'd': 1, 'f': 1, 'r': 1, 's': 1})\n"
     ]
    }
   ],
   "source": [
    "from collections import Counter\n",
    "\n",
    "x = Counter(\"codeforces\")\n",
    "print(x)"
   ]
  },
  {
   "cell_type": "markdown",
   "metadata": {},
   "source": [
    "Keys and values:"
   ]
  },
  {
   "cell_type": "code",
   "execution_count": 12,
   "metadata": {},
   "outputs": [
    {
     "name": "stdout",
     "output_type": "stream",
     "text": [
      "dict_keys(['c', 'o', 'd', 'e', 'f', 'r', 's'])\n",
      "dict_values([2, 2, 1, 2, 1, 1, 1])\n"
     ]
    }
   ],
   "source": [
    "print(x.keys())\n",
    "\n",
    "print(x.values())"
   ]
  },
  {
   "cell_type": "markdown",
   "metadata": {},
   "source": [
    "Print elements of counter object"
   ]
  },
  {
   "cell_type": "code",
   "execution_count": 16,
   "metadata": {},
   "outputs": [
    {
     "name": "stdout",
     "output_type": "stream",
     "text": [
      "<itertools.chain object at 0x7fc748389120>\n"
     ]
    }
   ],
   "source": [
    "print(x.elements())"
   ]
  },
  {
   "cell_type": "code",
   "execution_count": 4,
   "metadata": {},
   "outputs": [
    {
     "name": "stdout",
     "output_type": "stream",
     "text": [
      "c c o o d e e f r s "
     ]
    }
   ],
   "source": [
    "for char in x.elements():\n",
    "    print(char, end=\" \")"
   ]
  },
  {
   "cell_type": "markdown",
   "metadata": {},
   "source": [
    "Create counter object using a list"
   ]
  },
  {
   "cell_type": "code",
   "execution_count": 5,
   "metadata": {},
   "outputs": [
    {
     "name": "stdout",
     "output_type": "stream",
     "text": [
      "Counter({'medicine-x': 2, 'medicine-y': 2, 'medicine-xy': 1})\n"
     ]
    }
   ],
   "source": [
    "medicines = ['medicine-x', 'medicine-y', 'medicine-xy', 'medicine-y', 'medicine-x']\n",
    "medicines_count = Counter(medicines)\n",
    "print(medicines_count)"
   ]
  },
  {
   "cell_type": "markdown",
   "metadata": {},
   "source": [
    "Ignores keys that have zero or negative value"
   ]
  },
  {
   "cell_type": "code",
   "execution_count": 15,
   "metadata": {},
   "outputs": [
    {
     "name": "stdout",
     "output_type": "stream",
     "text": [
      "dict_keys(['medicine_x', 'medicine_y', 'medicine_z', 'medicine_k'])\n",
      "medicine_x\n",
      "medicine_y\n",
      "medicine_y\n"
     ]
    }
   ],
   "source": [
    "medicines_count2 = Counter(medicine_x = 1, medicine_y = 2, medicine_z = -1, medicine_k = 0)\n",
    "print(medicines_count2.keys())\n",
    "for medicine in medicines_count2.elements():\n",
    "    print(medicine)"
   ]
  }
 ],
 "metadata": {
  "kernelspec": {
   "display_name": "Python 3",
   "language": "python",
   "name": "python3"
  },
  "language_info": {
   "codemirror_mode": {
    "name": "ipython",
    "version": 3
   },
   "file_extension": ".py",
   "mimetype": "text/x-python",
   "name": "python",
   "nbconvert_exporter": "python",
   "pygments_lexer": "ipython3",
   "version": "3.10.13"
  }
 },
 "nbformat": 4,
 "nbformat_minor": 2
}
