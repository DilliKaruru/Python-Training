{
 "cells": [
  {
   "cell_type": "markdown",
   "metadata": {},
   "source": [
    "### Python Frozen sets"
   ]
  },
  {
   "cell_type": "markdown",
   "metadata": {},
   "source": [
    "- Immutable sets\n",
    "- Supports few methods"
   ]
  },
  {
   "cell_type": "markdown",
   "metadata": {},
   "source": [
    "##### Example:"
   ]
  },
  {
   "cell_type": "code",
   "execution_count": 1,
   "metadata": {},
   "outputs": [
    {
     "name": "stdout",
     "output_type": "stream",
     "text": [
      "frozenset({1, 2, 3, 4})\n"
     ]
    },
    {
     "ename": "AttributeError",
     "evalue": "'frozenset' object has no attribute 'add'",
     "output_type": "error",
     "traceback": [
      "\u001b[0;31m---------------------------------------------------------------------------\u001b[0m",
      "\u001b[0;31mAttributeError\u001b[0m                            Traceback (most recent call last)",
      "\u001b[1;32m/workspaces/Python-Training/frozen-sets.ipynb Cell 4\u001b[0m line \u001b[0;36m3\n\u001b[1;32m      <a href='vscode-notebook-cell://codespaces%2Bstunning-rotary-phone-v6vv6vg9gxv63x7xr/workspaces/Python-Training/frozen-sets.ipynb#X10sdnNjb2RlLXJlbW90ZQ%3D%3D?line=0'>1</a>\u001b[0m fs \u001b[39m=\u001b[39m \u001b[39mfrozenset\u001b[39m([\u001b[39m1\u001b[39m, \u001b[39m2\u001b[39m, \u001b[39m3\u001b[39m, \u001b[39m4\u001b[39m])\n\u001b[1;32m      <a href='vscode-notebook-cell://codespaces%2Bstunning-rotary-phone-v6vv6vg9gxv63x7xr/workspaces/Python-Training/frozen-sets.ipynb#X10sdnNjb2RlLXJlbW90ZQ%3D%3D?line=1'>2</a>\u001b[0m \u001b[39mprint\u001b[39m(fs)\n\u001b[0;32m----> <a href='vscode-notebook-cell://codespaces%2Bstunning-rotary-phone-v6vv6vg9gxv63x7xr/workspaces/Python-Training/frozen-sets.ipynb#X10sdnNjb2RlLXJlbW90ZQ%3D%3D?line=2'>3</a>\u001b[0m fs\u001b[39m.\u001b[39;49madd(\u001b[39m5\u001b[39m)\n",
      "\u001b[0;31mAttributeError\u001b[0m: 'frozenset' object has no attribute 'add'"
     ]
    }
   ],
   "source": [
    "fs = frozenset([1, 2, 3, 4])\n",
    "print(fs)\n",
    "fs.add(5)"
   ]
  },
  {
   "cell_type": "markdown",
   "metadata": {},
   "source": [
    "##### Operations on frozen set"
   ]
  },
  {
   "cell_type": "code",
   "execution_count": 2,
   "metadata": {},
   "outputs": [
    {
     "name": "stdout",
     "output_type": "stream",
     "text": [
      "Ingredients of Medicine1 frozenset({'component-y', 'component-2', 'component-1', 'component-xy'})\n",
      "Ingredients of Medicine2 frozenset({'component-3', 'component-2', 'component-x', 'component-xy'})\n"
     ]
    }
   ],
   "source": [
    "ing_medicine1 = frozenset([\"component-1\", \"component-2\", \"component-xy\", \"component-y\"])\n",
    "ing_medicine2 = frozenset([\"component-xy\", \"component-x\", \"component-3\", \"component-2\"])\n",
    "print(\"Ingredients of Medicine1\", ing_medicine1)\n",
    "print(\"Ingredients of Medicine2\", ing_medicine2)"
   ]
  },
  {
   "cell_type": "markdown",
   "metadata": {},
   "source": [
    "##### Union"
   ]
  },
  {
   "cell_type": "code",
   "execution_count": 4,
   "metadata": {},
   "outputs": [
    {
     "name": "stdout",
     "output_type": "stream",
     "text": [
      "frozenset({'component-y', 'component-2', 'component-1', 'component-x', 'component-3', 'component-xy'})\n"
     ]
    }
   ],
   "source": [
    "print(ing_medicine1.union(ing_medicine2))"
   ]
  },
  {
   "cell_type": "markdown",
   "metadata": {},
   "source": [
    "##### Intersection"
   ]
  },
  {
   "cell_type": "code",
   "execution_count": 5,
   "metadata": {},
   "outputs": [
    {
     "name": "stdout",
     "output_type": "stream",
     "text": [
      "frozenset({'component-2', 'component-xy'})\n"
     ]
    }
   ],
   "source": [
    "print(ing_medicine1.intersection(ing_medicine2))"
   ]
  }
 ],
 "metadata": {
  "kernelspec": {
   "display_name": "Python 3",
   "language": "python",
   "name": "python3"
  },
  "language_info": {
   "codemirror_mode": {
    "name": "ipython",
    "version": 3
   },
   "file_extension": ".py",
   "mimetype": "text/x-python",
   "name": "python",
   "nbconvert_exporter": "python",
   "pygments_lexer": "ipython3",
   "version": "3.10.13"
  }
 },
 "nbformat": 4,
 "nbformat_minor": 2
}
